{
 "cells": [
  {
   "cell_type": "markdown",
   "metadata": {},
   "source": [
    "# CSV file to TXT file conversion\n",
    "\n",
    "Combine cells in a CSV file to produce a single text file output.\n"
   ]
  },
  {
   "cell_type": "code",
   "execution_count": 4,
   "metadata": {},
   "outputs": [],
   "source": [
    "#Import CSV file\n",
    "\n",
    "import pandas as pd\n",
    "data = pd.read_csv('../Reports.csv').dropna()\n",
    "data\n"
   ]
  },
  {
   "cell_type": "code",
   "execution_count": 5,
   "metadata": {},
   "outputs": [],
   "source": [
    "# concatenate cells into one string 'output'\n",
    "\n",
    "length = len(data)\n",
    "output = \"\"\n",
    "\n",
    "for i in range (1, 6000):\n",
    "    output += data['message_manager'][i] + \" \"\n",
    "    "
   ]
  },
  {
   "cell_type": "code",
   "execution_count": 6,
   "metadata": {},
   "outputs": [
    {
     "name": "stdout",
     "output_type": "stream",
     "text": [
      "\n",
      "Type is  <class 'str'>\n",
      "Length is  1280943\n"
     ]
    }
   ],
   "source": [
    "# visualise output\n",
    "print(output[100:1100])\n",
    "print(\"\")\n",
    "print('Type is ', type(output))\n",
    "print('Length is ', len(output))"
   ]
  },
  {
   "cell_type": "code",
   "execution_count": 32,
   "metadata": {},
   "outputs": [],
   "source": [
    "# Write file to text output\n",
    "text_file = open(\"output.txt\", \"w\")\n",
    "\n",
    "text_file.write(output)\n",
    "\n",
    "text_file.close()"
   ]
  }
 ],
 "metadata": {
  "kernelspec": {
   "display_name": "Python 3",
   "language": "python",
   "name": "python3"
  },
  "language_info": {
   "codemirror_mode": {
    "name": "ipython",
    "version": 3
   },
   "file_extension": ".py",
   "mimetype": "text/x-python",
   "name": "python",
   "nbconvert_exporter": "python",
   "pygments_lexer": "ipython3",
   "version": "3.6.5"
  }
 },
 "nbformat": 4,
 "nbformat_minor": 2
}
